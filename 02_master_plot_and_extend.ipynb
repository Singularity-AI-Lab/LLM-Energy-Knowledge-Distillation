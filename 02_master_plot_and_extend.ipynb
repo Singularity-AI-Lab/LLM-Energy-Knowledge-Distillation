{
 "cells": [
  {
   "cell_type": "markdown",
   "metadata": {},
   "source": [
    "# Plotter (Master File)\n",
    "\n",
    "### This is used to process 4 notebooks and get their values following the config file at once"
   ]
  },
  {
   "cell_type": "code",
   "execution_count": null,
   "metadata": {},
   "outputs": [],
   "source": [
    "import IPython\n",
    "IPython.Application.instance().kernel.do_shutdown(True)"
   ]
  },
  {
   "cell_type": "markdown",
   "metadata": {},
   "source": [
    "**Note: To avoid caching in the config file, always restart kernal when changing parameters.**\n",
    "\n",
    "When you run the below, it must print some messages from the config.py other than what is printed below. \n",
    "\n",
    "If not, then restart kernel."
   ]
  },
  {
   "cell_type": "code",
   "execution_count": null,
   "metadata": {},
   "outputs": [],
   "source": [
    "from utils import process_log_timestamps, process_log_tokens\n",
    "from config import EXP_PATH, USE_TMY, SAVE_PLOTS\n",
    "\n",
    "print(110*\"-\")\n",
    "print(\"Use TMY: \", USE_TMY)\n",
    "print(\"Save Plots: \", SAVE_PLOTS)"
   ]
  },
  {
   "cell_type": "markdown",
   "metadata": {},
   "source": [
    "### API Calls Durations and Tokens"
   ]
  },
  {
   "cell_type": "markdown",
   "metadata": {},
   "source": [
    "#### API Calls Tokens"
   ]
  },
  {
   "cell_type": "code",
   "execution_count": null,
   "metadata": {},
   "outputs": [],
   "source": [
    "if True:\n",
    "    print()\n",
    "    print(110*\"=\")\n",
    "    print(\"API Calls Tokens)\")\n",
    "    print(110*\"=\")\n",
    "    for i in range(1, 5):\n",
    "        try:\n",
    "            logfile_path = f\"{EXP_PATH}/logfile_l{i}.txt\"\n",
    "\n",
    "            if USE_TMY and (i == 2 or i == 3):\n",
    "                continue\n",
    "            \n",
    "            if USE_TMY and i == 4:\n",
    "                logfile_path = f\"{EXP_PATH}/logfile_l{i}_tmy.txt\"\n",
    "            \n",
    "            print(f\"\\nProcessing log file: {logfile_path}\")\n",
    "            Total_Usage_Prompt_Tokens, Total_Usage_Completion_Tokens = process_log_tokens(logfile_path)\n",
    "            print(f\"Total Usage Prompt Tokens: {Total_Usage_Prompt_Tokens}\")\n",
    "            print(f\"Total Usage Completion Tokens: {Total_Usage_Completion_Tokens}\")\n",
    "            print(100*\"-\")\n",
    "        except Exception as e:\n",
    "            print(f\"Error: {e}\")\n",
    "            continue"
   ]
  },
  {
   "cell_type": "markdown",
   "metadata": {},
   "source": [
    "#### API Calls Duration"
   ]
  },
  {
   "cell_type": "code",
   "execution_count": null,
   "metadata": {},
   "outputs": [],
   "source": [
    "if True:\n",
    "    print()\n",
    "    print(110*\"=\")\n",
    "    print(\"API Calls Duration)\")\n",
    "    print(110*\"=\")\n",
    "    for i in range(1, 5):\n",
    "        try:\n",
    "            logfile_path = f\"{EXP_PATH}/logfile_l{i}.txt\"\n",
    "\n",
    "            if USE_TMY and (i == 2 or i == 3):\n",
    "                continue\n",
    "            \n",
    "            if USE_TMY and i == 4:\n",
    "                logfile_path = f\"{EXP_PATH}/logfile_l{i}_tmy.txt\"\n",
    "            \n",
    "            print(f\"\\nProcessing log file: {logfile_path}\")\n",
    "            durations, total_duration, avg_duration = process_log_timestamps(logfile_path)\n",
    "\n",
    "            if durations is not None:\n",
    "                print(\"Durations between consecutive timestamps:\")\n",
    "                for i, duration in enumerate(durations):\n",
    "                    print(f\"  Duration {i + 1}: {duration}\")\n",
    "                print(f\"Total Duration: {total_duration}\")\n",
    "                print(f\"Average Duration: {avg_duration}\")\n",
    "\n",
    "            print(100*\"-\")\n",
    "            # break\n",
    "        except Exception as e:\n",
    "            print(f\"Error: {e}\")\n",
    "            continue"
   ]
  },
  {
   "cell_type": "markdown",
   "metadata": {},
   "source": [
    "## Run the Plot Notebook\n",
    "\n",
    "It saves the combined CSVs and plot the results and save them in the folder."
   ]
  },
  {
   "cell_type": "code",
   "execution_count": null,
   "metadata": {},
   "outputs": [],
   "source": [
    "%run '02A_plot_llm_response.ipynb'"
   ]
  },
  {
   "cell_type": "markdown",
   "metadata": {},
   "source": [
    "## Run the Base Dataframes Notebook\n",
    "\n",
    "It saves the base dataframes for each country based on its holiday in the folder."
   ]
  },
  {
   "cell_type": "code",
   "execution_count": null,
   "metadata": {},
   "outputs": [],
   "source": [
    "%run '02B_create_base_dataframes.ipynb'"
   ]
  },
  {
   "cell_type": "markdown",
   "metadata": {},
   "source": [
    "## Run the Yearly Expanded Dataframes Notebook\n",
    "\n",
    "It saves the yearly-expanded dataframes for each country in the folder."
   ]
  },
  {
   "cell_type": "code",
   "execution_count": null,
   "metadata": {},
   "outputs": [],
   "source": [
    "%run '02C_expand_to_yearly_dataframes.ipynb'"
   ]
  },
  {
   "cell_type": "markdown",
   "metadata": {},
   "source": [
    "## Run the Plotter of the Energy Signature Notebook\n",
    "\n",
    "It plots and saves the energy signature for each country in the folder."
   ]
  },
  {
   "cell_type": "code",
   "execution_count": null,
   "metadata": {},
   "outputs": [],
   "source": [
    "%run '02D_plot_energy_signatures.ipynb'"
   ]
  }
 ],
 "metadata": {
  "kernelspec": {
   "display_name": "llama",
   "language": "python",
   "name": "python3"
  },
  "language_info": {
   "codemirror_mode": {
    "name": "ipython",
    "version": 3
   },
   "file_extension": ".py",
   "mimetype": "text/x-python",
   "name": "python",
   "nbconvert_exporter": "python",
   "pygments_lexer": "ipython3",
   "version": "3.11.10"
  }
 },
 "nbformat": 4,
 "nbformat_minor": 2
}
